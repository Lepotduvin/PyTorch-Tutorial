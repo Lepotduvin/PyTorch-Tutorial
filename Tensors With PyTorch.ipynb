{
  "nbformat": 4,
  "nbformat_minor": 0,
  "metadata": {
    "colab": {
      "provenance": [],
      "authorship_tag": "ABX9TyOHJ4kimz72yrwBTAbL84xL",
      "include_colab_link": true
    },
    "kernelspec": {
      "name": "python3",
      "display_name": "Python 3"
    },
    "language_info": {
      "name": "python"
    }
  },
  "cells": [
    {
      "cell_type": "markdown",
      "metadata": {
        "id": "view-in-github",
        "colab_type": "text"
      },
      "source": [
        "<a href=\"https://colab.research.google.com/github/Lepotduvin/PyTorch-Tutorial/blob/main/Tensors%20With%20PyTorch.ipynb\" target=\"_parent\"><img src=\"https://colab.research.google.com/assets/colab-badge.svg\" alt=\"Open In Colab\"/></a>"
      ]
    },
    {
      "cell_type": "markdown",
      "source": [
        "##TENSORS\n",
        "- A torch.Tensor is a multi-dimensional matrix containing elements of a single data type\n",
        "\n",
        "- Similar to Numpy arrays, but full of fun things that make them work better on GPU's (vs regular CPU's)\n",
        "\n",
        "- default data type of float32\n",
        "\n",
        "- More suitable for deep learning than a numpy array"
      ],
      "metadata": {
        "id": "j70eG_NvbkRq"
      }
    },
    {
      "cell_type": "code",
      "execution_count": 1,
      "metadata": {
        "id": "1ICfIfT6bJno"
      },
      "outputs": [],
      "source": [
        "import torch\n",
        "import numpy as np"
      ]
    },
    {
      "cell_type": "code",
      "source": [],
      "metadata": {
        "id": "Bt959RahbjKm"
      },
      "execution_count": null,
      "outputs": []
    },
    {
      "cell_type": "markdown",
      "source": [
        "## LISTS"
      ],
      "metadata": {
        "id": "GFwJU1RVcDrQ"
      }
    },
    {
      "cell_type": "code",
      "source": [],
      "metadata": {
        "id": "--RnfXoqcE4H"
      },
      "execution_count": null,
      "outputs": []
    }
  ]
}